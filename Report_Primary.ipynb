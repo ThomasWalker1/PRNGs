{
 "cells": [
  {
   "cell_type": "markdown",
   "metadata": {},
   "source": [
    "# Introduction\n",
    "\n",
    "In this notebook I will outline the main method used to generate pseudo random numbers in programming languages. Leading on from this we will then explore how the programming languages use these number to generate uniform variates. As a consequence we will be able to construct methods such that we can align pseudo random number generation across the programming languages. This research only concerns itself with Python, R and C++. For python we will consider the random functions within the numpy library, for R we will only concern ourselves with the standard random functions its employs, and for C++ we will look into both its standard random functions and those facilitated by the boost library. "
   ]
  },
  {
   "cell_type": "markdown",
   "metadata": {},
   "source": [
    "# The Mersenne Twister\n",
    "\n",
    "This is a very popular pseudo random number generator (PRNG) used by programming languages. Although many offer the option to use other PRNG, often the default is an instance of The Mersenne Twister. The reason for its popularity is its large period (which we will discuss in due course, as its dependent on the particular instance of The Mersenne Twister algorithm we implement) and the strong result it provides for the $k$-distribution test.\n",
    "\n",
    "## $k$-distribution test\n",
    "\n",
    "This is a test that attempts to provide an indication whether a PRNG is 'random'. The general outline of the test is as follows:\n",
    "- We have a pseudorandom sequence, $x_i$, of $w$-bit integers of period $P$. \n",
    "- We consider the vectors formed by the leading $v$ bits of $k$ of these $w$-bit integers\n",
    "  - If we denote the leading $v$ bits of $x$ as $trunc_v(x)$, then the vectors we are considering are\n",
    "$$(trunc_v(x_i),trunc_v(x_{i+1}),\\dots,trunc_v(x_{i+k-1}),\\quad\\text{for } 0\\leq i\\leq P$$\n",
    "- There are $2^{kv}$ possible vectors, so we say that the random sequence $(x_i)$ is $k$-distributed to $v$-bit accuracy if each of combination of bits occurs the same number of times within a period, except for the all-zero combination that occurs onces less often.\n",
    "\n",
    "The source provides an illustrative geometric understanding of the test, and why it is useful to consider.\n",
    "\n",
    "## Terminology\n",
    "\n",
    "To understand how the algorithm works we should clear up some terminology. We will be dealing with *words* of size $w$, that is we are considering integers between $0$ and $2^w-1$. For a given word we can associate with it a *word vector*, this is simply a $w$-dimensional row vector over $\\mathbb{F}_2$. We associate the two by the binary representation of the word, the least significant bit appear to the right. To denote these word vectors we will use bold vector notation, $\\mathbf{x}$.\n",
    "\n",
    "## The Algorithm\n",
    "\n",
    "The Mersenne Twister algorithm employs a linear recurrence to generate $32$-bit integer words, and then to improve its performance on the $k$-distribution test it employs what is called a *tempering* stage. Essentially, this involves transforming the outputted $32$-bit integer word by right multiplying its associated word vector by a $w \\times w$ invertible matrix. The specific linear recurrence employed is the following:\n",
    "\n",
    "$$\\mathbf{x}_{k+n}:=\\mathbf{x}_{k+m}\\oplus(\\mathbf{x}_k^u\\vert x_{k+1}^l)\\mathbf{A}, \\quad(k=0,1,\\dots)$$\n",
    "Where:\n",
    "- $n$: The degree of the recurrence (Integer)\n",
    "- $r$ (hidden in the definition of $\\mathbf{x}_k^u$): $0\\leq r\\leq w-1$ (Integer)\n",
    "- $m$: $1\\leq m\\leq n$ (Integer)\n",
    "- $\\mathbf{A}$: An element of $\\mathbf{M}_{w\\times w}(\\mathbb{F}_2)$ (Matrix)\n",
    "\n",
    "With $\\mathbf{x}_k^u$ denoting the upper $u(=w-r)$ bits of $\\mathbf{x}_k$ and $\\mathbf{x}_k^l$ denoting the lower $r$ bits of $\\mathbf{x}_k$ and $(\\mathbf{x}_k^u\\vert \\mathbf{x}_{k+1}^l)$ simply denoting their concatenation.\n",
    "\n",
    "To make this linear recurrence easy to implement, the matrix $\\mathbf{A}$ is often taken to have the simpler form \n",
    "$$\\begin{pmatrix}\\;&1&\\;&\\;&\\;\\\\\\;&\\;&1&\\;&\\;\\\\\\;&\\;&\\;&\\ddots&\\;\\\\\\;&\\;&\\;&\\;&\\;1\\\\a_{w-1}&a_{w-2}&\\dots&\\dots&a_0\\end{pmatrix}$$\n",
    "Which allows the calculation $\\mathbf{xA}$ to be reduced to\n",
    "$$\\mathbf{xA}=\\begin{cases} \\text{shiftright}(\\mathbf{x})&\\text{if }x_0=0\\\\\\text{shiftright}(\\mathbf{x})&\\text{if }x_0=1\\end{cases}$$\n",
    "As a consequence of this, when implementing a specific instance of this algorithm the matrix $\\mathbf{A}$ is simply given as word of size $w$ (as $a_i\\in\\mathbb{F}_2$, so the concatenation of the $a_i$ s forms a binary value).\n",
    "\n",
    "We then move onto the tempering stage of the algorithm, which as briefly described above involves a transformation. More specifically, we have a sequence of transformations, $\\mathbf{x}\\mapsto\\mathbf{z}$. The transformations are carried out in the following way:\n",
    "\n",
    "$$\\begin{align*}\n",
    "\\mathbf{y}:=\\mathbf{x}\\oplus(\\mathbf{x}>>u)\\\\\n",
    "\\mathbf{y}:=\\mathbf{y}\\oplus((\\mathbf{y}<<s) \\text{ AND } \\mathbf{b})\\\\\n",
    "\\mathbf{y}:=\\mathbf{y}\\oplus((\\mathbf{x}<<t)\\text{ AND }\\mathbf{c})\\\\\n",
    "\\mathbf{z}:=\\mathbf{y}\\oplus(\\mathbf{x}>>l)\n",
    "\\end{align*}$$\n",
    "Where $u,s,t$, and $l$ are integers\n",
    "$<<k$ denotes a left bit shift by $K$ and $>>k$ denotes a right bit shift by $k$.\n",
    "$\\mathbf{b}$ and $\\mathbf{c}$ are called bitmasks.\n",
    "\n",
    "## MT19937\n",
    "\n",
    "Python, R and C++ each employ the MT19937 instance of the The Mersenne Twister algorithm, we is simply a version of the algorithm where the parameters take on specific values. The choice of these parameters is important as it affects the size of the period for the sequence of random numbers generated, as well as their distribution amongst the bits.\n",
    "MT19937 period parameters:\n",
    "- $w=32$\n",
    "- $n=624$\n",
    "- $r=31$\n",
    "- $m=397$\n",
    "- $a=0\\text{x}9908\\text{b}0\\text{df}$\n",
    "  \n",
    "MT19937 tempering parameters:\n",
    "- $u=11$\n",
    "- $s=7$\n",
    "- $t=15$\n",
    "- $l=18$\n",
    "- $b=0\\text{x}9\\text{d}2\\text{c}5680$\n",
    "- $c=0\\text{xefc}60000$\n",
    "\n",
    "With these specific set of parameters the algorithm has a period of $2^{19937}-1$ and is 623-distributed amongst the full $32$-bits. Along with the property of being easy to implement sufficiently in code, makes the MT19937 algorithm a very popular option as a PRNG. \n",
    "\n",
    "## Implementation\n",
    "\n",
    "We use the following method to implement this algorithm:\n",
    "1. We set the generator with an initial list of $624$ words, which we are going to call the key.\n",
    "2. Using this initial key we update the $624$ words using the linear recurrence to generate a new key of $624$ words.\n",
    "3. We sample this key at its first value, and temper this word to generate an output.\n",
    "4. After this we increment the position at which we sample at\n",
    "5. We then sample the key at this new position, temper the value to generate our next output.\n",
    "6. Repeating this we will eventually reach the end of our key, at which point we use the key and the linear recurrence to generate a new key and start sampling again from the beginning.\n",
    "7. This is repeated as to keep generating a sequence of random integers.\n",
    "\n",
    "Throughout this report the 'state' will refer to the tuple (position, key), where position gives the index at which we are sampling the key at.\n"
   ]
  },
  {
   "cell_type": "code",
   "execution_count": 1,
   "metadata": {},
   "outputs": [
    {
     "name": "stdout",
     "output_type": "stream",
     "text": [
      "Requirement already satisfied: numpy in c:\\users\\thoma\\appdata\\local\\programs\\python\\python39\\lib\\site-packages (1.23.2)\n",
      "Requirement already satisfied: rpy2 in c:\\users\\thoma\\appdata\\local\\programs\\python\\python39\\lib\\site-packages (3.5.4)\n",
      "Requirement already satisfied: cffi>=1.10.0 in c:\\users\\thoma\\appdata\\local\\programs\\python\\python39\\lib\\site-packages (from rpy2) (1.15.1)\n",
      "Requirement already satisfied: jinja2 in c:\\users\\thoma\\appdata\\local\\programs\\python\\python39\\lib\\site-packages (from rpy2) (3.1.2)\n",
      "Requirement already satisfied: pytz in c:\\users\\thoma\\appdata\\local\\programs\\python\\python39\\lib\\site-packages (from rpy2) (2022.2.1)\n",
      "Requirement already satisfied: tzlocal in c:\\users\\thoma\\appdata\\local\\programs\\python\\python39\\lib\\site-packages (from rpy2) (4.2)\n",
      "Requirement already satisfied: packaging in c:\\users\\thoma\\appdata\\roaming\\python\\python39\\site-packages (from rpy2) (21.3)\n",
      "Requirement already satisfied: pycparser in c:\\users\\thoma\\appdata\\local\\programs\\python\\python39\\lib\\site-packages (from cffi>=1.10.0->rpy2) (2.21)\n",
      "Requirement already satisfied: MarkupSafe>=2.0 in c:\\users\\thoma\\appdata\\local\\programs\\python\\python39\\lib\\site-packages (from jinja2->rpy2) (2.1.1)\n",
      "Requirement already satisfied: pyparsing!=3.0.5,>=2.0.2 in c:\\users\\thoma\\appdata\\roaming\\python\\python39\\site-packages (from packaging->rpy2) (3.0.9)\n",
      "Requirement already satisfied: pytz-deprecation-shim in c:\\users\\thoma\\appdata\\local\\programs\\python\\python39\\lib\\site-packages (from tzlocal->rpy2) (0.1.0.post0)\n",
      "Requirement already satisfied: tzdata in c:\\users\\thoma\\appdata\\local\\programs\\python\\python39\\lib\\site-packages (from tzlocal->rpy2) (2022.2)\n",
      "Requirement already satisfied: matplotlib in c:\\users\\thoma\\appdata\\local\\programs\\python\\python39\\lib\\site-packages (3.5.3)\n",
      "Requirement already satisfied: pillow>=6.2.0 in c:\\users\\thoma\\appdata\\local\\programs\\python\\python39\\lib\\site-packages (from matplotlib) (9.2.0)\n",
      "Requirement already satisfied: kiwisolver>=1.0.1 in c:\\users\\thoma\\appdata\\local\\programs\\python\\python39\\lib\\site-packages (from matplotlib) (1.4.4)\n",
      "Requirement already satisfied: packaging>=20.0 in c:\\users\\thoma\\appdata\\roaming\\python\\python39\\site-packages (from matplotlib) (21.3)\n",
      "Requirement already satisfied: python-dateutil>=2.7 in c:\\users\\thoma\\appdata\\roaming\\python\\python39\\site-packages (from matplotlib) (2.8.2)\n",
      "Requirement already satisfied: pyparsing>=2.2.1 in c:\\users\\thoma\\appdata\\roaming\\python\\python39\\site-packages (from matplotlib) (3.0.9)\n",
      "Requirement already satisfied: numpy>=1.17 in c:\\users\\thoma\\appdata\\local\\programs\\python\\python39\\lib\\site-packages (from matplotlib) (1.23.2)\n",
      "Requirement already satisfied: fonttools>=4.22.0 in c:\\users\\thoma\\appdata\\local\\programs\\python\\python39\\lib\\site-packages (from matplotlib) (4.37.1)\n",
      "Requirement already satisfied: cycler>=0.10 in c:\\users\\thoma\\appdata\\local\\programs\\python\\python39\\lib\\site-packages (from matplotlib) (0.11.0)\n",
      "Requirement already satisfied: six>=1.5 in c:\\users\\thoma\\appdata\\roaming\\python\\python39\\site-packages (from python-dateutil>=2.7->matplotlib) (1.16.0)\n"
     ]
    }
   ],
   "source": [
    "import sys\n",
    "!{sys.executable} -m pip install numpy\n",
    "!{sys.executable} -m pip install rpy2\n",
    "!{sys.executable} -m pip install matplotlib"
   ]
  },
  {
   "cell_type": "code",
   "execution_count": 2,
   "metadata": {},
   "outputs": [
    {
     "name": "stderr",
     "output_type": "stream",
     "text": [
      "Unable to determine R home: [WinError 2] The system cannot find the file specified\n"
     ]
    }
   ],
   "source": [
    "import numpy as np\n",
    "import numpy.random as rng\n",
    "from rpy2 import robjects\n",
    "import matplotlib.pyplot as plt"
   ]
  },
  {
   "cell_type": "code",
   "execution_count": 3,
   "metadata": {},
   "outputs": [],
   "source": [
    "# The following code block defines a set of functions so that we can work with signed as well as unsigned integers\n",
    "# R works with signed integers where as Python and C++ work with unsigned integers\n",
    "\n",
    "def int32(num):\n",
    "    while num>2**31 or num<-2**31:\n",
    "        if num > 2 ** 31:\n",
    "            num=-(2 ** 32 - num)\n",
    "        elif num < -2 ** 31:\n",
    "            num = 2 ** 32 + num\n",
    "    return num\n",
    "\n",
    "def int32_rev(num):\n",
    "    if num<0:\n",
    "        return 2**32+num\n",
    "    return num\n",
    "\n",
    "def state32(state):\n",
    "    pos, key = state\n",
    "    return pos, [int32(x) for x in key]"
   ]
  },
  {
   "cell_type": "code",
   "execution_count": 4,
   "metadata": {},
   "outputs": [],
   "source": [
    "n = 624\n",
    "m = 397\n",
    "matrix_a = 0x9908b0df\n",
    "upper_mask = 0x80000000\n",
    "lower_mask = 0x7fffffff\n",
    "\n",
    "def mt19937(key):\n",
    "    '''\n",
    "    Here we are using the linear recurrence to generate a new key, based on the previous key (or any set of $624$ words)\n",
    "    '''\n",
    "    for i in range(n - m):\n",
    "        y = (key[i] & upper_mask) | (key[i + 1] & lower_mask)\n",
    "        key[i] = key[i + m] ^ (y >> 1) ^ (-(y & 1) & matrix_a)\n",
    "    for i in range(n - m, n - 1):\n",
    "        y = (key[i] & upper_mask) | (key[i + 1] & lower_mask)\n",
    "        key[i] = key[i + (m - n)] ^ (y >> 1) ^ (-(y & 1) & matrix_a)\n",
    "    y = (key[n - 1] & upper_mask) | (key[0] & lower_mask)\n",
    "    key[n - 1] = key[m - 1] ^ (y >> 1) ^ (-(y & 1) & matrix_a)\n",
    "    return key\n",
    "\n",
    "def update_state(state):\n",
    "    '''\n",
    "    This function updates the state, that involves incrementing the position variable and if necessary (i.e. we reach the end of the key) we update the key\n",
    "    '''\n",
    "    pos = state[0]\n",
    "    key = state[1]\n",
    "    if pos>=623:\n",
    "        return (0, mt19937(key))\n",
    "    else:\n",
    "        return (pos+1, key)\n",
    "        \n",
    "def mt19937_next(state):\n",
    "    '''\n",
    "    The tempering function, takes as input the state so that it can be sampled, it then takes this sample and tempers it to generate the final output\n",
    "    '''\n",
    "    pos, key=update_state(state)\n",
    "    y=key[pos]\n",
    "    y=int32_rev(y)\n",
    "    y ^= (y >> 11)\n",
    "    y ^= (y << 7) & 0x9d2c5680\n",
    "    y ^= (y << 15) & 0xefc60000\n",
    "    y ^= (y >> 18)\n",
    "    return y, (pos, key)"
   ]
  },
  {
   "cell_type": "markdown",
   "metadata": {},
   "source": [
    "# Setting the Generator\n",
    "\n",
    "As stated above, we must provide an initial key and a starting position to allow us to start generating pseudo random integers.\n",
    "\n",
    "## Python\n",
    "\n",
    "In python we can do this directly by using `numpy.set_state()`, which takes as input the type of generator we are using (in our case it is 'MT19937', however, numpy does offer the ability to use other generators), the key (taken to be a list of $624$ $32$-bit integers) and the position to sample the key. Or we can use `numpy.seed()` which simply takes an integer as an input. From this integer it will generate a list of $624$ and set the initial position to be at the end of the list. This is so that when we want to generate our first output the key is updated according to the linear recurrence and we take our sample to be the first word in this new key. \n",
    "\n",
    "## R \n",
    "\n",
    "Similarly, in R we set the state directly by defining `.Random.seed`. We do so by supplying a list with the following format, [type of generator (10403 in our case), position to sample at, key]. Or we can simply supply `set.seed()` with an integer and the key is the generated from this integer, and again the position is set to the end of this key.\n",
    "\n",
    "## C++\n",
    "\n",
    "In C++ we set the seed when we define the generator. If we are working with the standard random functions we would include the random header, `#include <random>`, and then define the generator, `std::mt19937 gen(seed)`. If we were to use the boost library we would again have to import the 'boost/random' header, `#include <boost/random.hpp>`, and then define the generator, `boost::random::mt19937 gen{seed}`.\n",
    "\n",
    "## Code Implementation\n",
    "\n",
    "We can replicate each of these methods of instantiation re-writing their underlying algorithms as as python functions."
   ]
  },
  {
   "cell_type": "code",
   "execution_count": 5,
   "metadata": {},
   "outputs": [],
   "source": [
    "def python_state_from_seed(seed):\n",
    "    key = []\n",
    "    seed &= 0xffffffff\n",
    "    for i in range(624):\n",
    "        key.append(seed)\n",
    "        seed = (1812433253 * (seed ^ (seed >> 30)) + i + 1) & 0xffffffff\n",
    "    return (624, key)\n",
    "\n",
    "def r_state_from_seed(seed):\n",
    "    for j in range(51):\n",
    "        seed=int32(69069*seed+1)\n",
    "    key = []\n",
    "    for i in range(624):\n",
    "        seed=int32(69069*seed+1)\n",
    "        key.append(seed)\n",
    "    return (624, key)\n",
    "\n",
    "def cplusplus_state_from_seed(seed):\n",
    "    key = []\n",
    "    seed &= 0xffffffff\n",
    "    for i in range(624):\n",
    "        key.append(seed)\n",
    "        seed = (1812433253 * (seed ^ (seed >> 30)) + i + 1) & 0xffffffff\n",
    "    return (624, key)"
   ]
  },
  {
   "cell_type": "markdown",
   "metadata": {},
   "source": [
    "## Remarks\n",
    "There are a few points we should note about these particular functions and methodologies to setting up the generator.\n",
    "1. Python and C++ generate their initial $624$ words in the same way, meaning that given an initial integer seed the MT19937 generator will be set to the same state.\n",
    "2. R uses a different algorithm to generate its state from an initial integer seed.\n",
    "   1. The method R implements is similar to that describe in the initial paper for the MT19937 algorithm, published in 1998. However, in 2002 issues were raised in regard to the algorithm yielding nearly shifted sequences when two different integer seeds were provided. The concerns were in relation to how this affected the 'randomness' of the generator. This issue arose when the two supplied integers were close in terms of their Hamming distance. Therefore, an updated method for generating the key from the integer seed was given and this is the one that python and C++ adopt. However, R's implementation of the initial method is a slight variant on that proposed in the original paper and people believe that it doesn't suffer the same issues that forced the update in 2002. I believe the slight variant that R employs is the initial looping of the integer before starting to generate the key."
   ]
  },
  {
   "cell_type": "markdown",
   "metadata": {},
   "source": [
    "# Generating Uniform Variates\n",
    "\n",
    "We have seen how each language generates a $32$-bit word, and analyzed some of the difference in the methodologies they adopt for doing this. Now we will move onto seeing how each language takes those $32$-bit words to generate a uniform variate.\n",
    "\n",
    "## Python\n",
    "\n",
    "We will consider the function `numpy.random.uniform()`, which according to the documentation it samples uniformly over the half open interval [low, high), where by default `low=0` and `high=1`.\n",
    "\n",
    "## R\n",
    "\n",
    "For R we will look at the standard `runif()` function which, differing to python, will sample from the interval (min, max), where by default `min=0` and `max=1`. \n",
    "\n",
    "## C++\n",
    "\n",
    "Finally, for C++ we will investigate multiple methods for generating uniform variates. From the standard library we will look into `generate_canonical` which produces variates from the interval $[0,1)$. Then we will look at `uniform_real_distribution` from the boost library which samples from the interval [min, max), with `min=0` and `max=1`. \n",
    "\n",
    "## Code Implementation"
   ]
  },
  {
   "cell_type": "code",
   "execution_count": 6,
   "metadata": {},
   "outputs": [],
   "source": [
    "def python_random_uniform(state, low=0, high=1, size=1):\n",
    "    output=[]\n",
    "    for i in range(size):\n",
    "        integer_one, state = mt19937_next(state)\n",
    "        integer_two, state = mt19937_next(state)\n",
    "        variate = ((integer_one>>5)*67108864.0+(integer_two>>6))/(9007199254740992)\n",
    "        output.append(low+(high-low)*variate)\n",
    "    return output, state\n",
    "\n",
    "def r_random_uniform(state, n=1, min=0, max=1):\n",
    "    output = []\n",
    "    for i in range(n):\n",
    "        state=state32(state)\n",
    "        integer_output, state = mt19937_next(state)\n",
    "        output.append(integer_output/(2**32-1))\n",
    "    return output, state\n",
    "\n",
    "def cplusplus_generate_canonical(state, size=1):\n",
    "    output = []\n",
    "    def cplusplus_next_float(state):\n",
    "        integer, state = mt19937_next(state)\n",
    "        return integer/(2**32), state\n",
    "    while len(output)!=size:\n",
    "        next_float, state = cplusplus_next_float(state)\n",
    "        if next_float != 1:\n",
    "            output.append(next_float)\n",
    "    return output, state\n",
    "\n",
    "def cplusplus_boost_uniform_real_distribution(state, a=0, b=1, size=1):\n",
    "    output = []\n",
    "    for i in range(size):\n",
    "        integer_one, state = mt19937_next(state)\n",
    "        integer_two, state = mt19937_next(state)\n",
    "        output.append(((integer_two>>5)*67108864.0+(integer_one>>6))/(9007199254740992-1))\n",
    "    return output, state"
   ]
  },
  {
   "cell_type": "markdown",
   "metadata": {},
   "source": [
    "## Remarks\n",
    "\n",
    "- The combination implemented by python and C++ ay seem arbitrary at first glance, however, it is used to help solve a prominent issue in floating point operations. Due to how we store floating point numbers, when we divide our integer output the effects of rounding will cause some bits to be over represented and others to not be present at all in the final output space. Therefore, to try and increase the uniformity of the distribution of bits amongst the output space, Python and C++ use two outputs from the generator to generate a larger $53$-bit integer which is then divided to get our variate\n",
    "  - I will only explain Python's process for forming this larger integer as C++'s method is *almost* identical. We draw two $32$-bit words from our generator. We apply a bitshift of 5 to the first (effectively dividing it by $2^5$) making it a $27$-bit integer. Then it is multiplied by $67108864=2^26$, making it a $53$-bit integer. However, in binary this new integer will have $26$ zeros at the right, this is where we use our second integer. We take our second integer and perform a bitshift of $6$, which forms a new $26$-bit integer. We take this and add it to the $53$-bit integer so that we populate the its remaining bits. We can now divide by $2^53$ to get our variate between $[0,1)$\n",
    "- We must note as well that the effects of rounding may cause $1$ to be an output of these processes despite the MT19937 having a range of $[0,2^{32}-1] and we are dividing by $2^{32}$\n",
    "- R simply divides the output of the generator by $2^{32}-1$ to generate its variates.\n",
    "  - In this case that $0$ or $1$ are to be returned it has predetermined values that it will output in stead. Of $0$ was to be outputted $\\frac{1}{2(2^{32}-1)}$ is outputted instead and if $1$ to be outputted the function will output $1-\\frac{1}{2(2^{32}-1)}$\n",
    "- Now in regards to the way C++ generates its variates\n",
    "  - We notice that for `generate_canonical` we simply divide by $2^{32}$, like in R and we deal with potential of returning $1$ by calling the function again in the event that $1$ is to be returned. This has minor effects on the uniformity of the output space. \n",
    "  - Boost's `uniform_real_distribution` works in a similar but yet different way to Python's `numpy.uniform()`. Note that it divides by $2^{53}-1$ to reduce the risk of returning $1$. \n",
    "  - We note that the standard library also has a `uniform_real_distribution` function, which works in the same way as `generate_canonical`.\n",
    "  - Boost also has a function `uniform_01` which is just the special case of `boost::uniform_real_distribution` we are considering."
   ]
  },
  {
   "cell_type": "markdown",
   "metadata": {},
   "source": [
    "# Aligning PRNG Across Languages\n",
    "\n",
    "It would be beneficial if we had methods to align the generation of pseudo random numbers across the language such that we can replicate any random simulations or models across the languages. There are multiple ways we could go about doing this which I will explore now. \n",
    "For convenience I will aim to align C++ and R to python, as this will then provide capabilities to align C++ and R if desired. \n",
    "\n",
    "## Aligning R and Python\n",
    "\n",
    "There is one simple solution to this, which is to run R code in Python. This can be done by simply downloading the 'rpy2' library and using its 'robjects' module. "
   ]
  },
  {
   "cell_type": "code",
   "execution_count": 15,
   "metadata": {},
   "outputs": [
    {
     "name": "stdout",
     "output_type": "stream",
     "text": [
      "[1] 0.2655087 0.3721239 0.5728534 0.9082078 0.2016819\n"
     ]
    },
    {
     "data": {
      "text/html": [
       "\n",
       "        <span>FloatVector with 5 elements.</span>\n",
       "        <table>\n",
       "        <tbody>\n",
       "          <tr>\n",
       "          \n",
       "            <td>\n",
       "            0.265509\n",
       "            </td>\n",
       "          \n",
       "            <td>\n",
       "            0.372124\n",
       "            </td>\n",
       "          \n",
       "            <td>\n",
       "            0.572853\n",
       "            </td>\n",
       "          \n",
       "            <td>\n",
       "            0.908208\n",
       "            </td>\n",
       "          \n",
       "            <td>\n",
       "            0.201682\n",
       "            </td>\n",
       "          \n",
       "          </tr>\n",
       "        </tbody>\n",
       "        </table>\n",
       "        "
      ],
      "text/plain": [
       "<rpy2.robjects.vectors.FloatVector object at 0x000002ACB5F821C0> [RTYPES.REALSXP]\n",
       "R classes: ('numeric',)\n",
       "[0.265509, 0.372124, 0.572853, 0.908208, 0.201682]"
      ]
     },
     "execution_count": 15,
     "metadata": {},
     "output_type": "execute_result"
    }
   ],
   "source": [
    "robjects.r('''\n",
    "set.seed(1)\n",
    "print(runif(5))\n",
    "''')"
   ]
  },
  {
   "cell_type": "markdown",
   "metadata": {},
   "source": [
    "Or we can use the functions we defined above to reproduce random variates generated in R in Python."
   ]
  },
  {
   "cell_type": "code",
   "execution_count": 14,
   "metadata": {},
   "outputs": [
    {
     "name": "stdout",
     "output_type": "stream",
     "text": [
      "[0.2655086632039185, 0.372123899723432, 0.5728533634852743, 0.9082077902062349, 0.20168193108441354]\n"
     ]
    }
   ],
   "source": [
    "r=r_random_uniform(r_state_from_seed(1), n=5)[0]\n",
    "print(r)"
   ]
  },
  {
   "cell_type": "markdown",
   "metadata": {},
   "source": [
    "## Aligning C++ and Python\n",
    "\n",
    "Similarly, we can use the functions we defined above to reproduce random variates generated in C++ in Python."
   ]
  },
  {
   "cell_type": "code",
   "execution_count": 11,
   "metadata": {},
   "outputs": [
    {
     "name": "stdout",
     "output_type": "stream",
     "text": [
      "[0.4170219984371215, 0.99718480813317, 0.720324489288032, 0.9325573612004519, 0.00011438108049333096]\n"
     ]
    }
   ],
   "source": [
    "c_1=cplusplus_generate_canonical(cplusplus_state_from_seed(1), size=5)[0]\n",
    "print(c_1)"
   ]
  },
  {
   "cell_type": "code",
   "execution_count": 12,
   "metadata": {},
   "outputs": [
    {
     "name": "stdout",
     "output_type": "stream",
     "text": [
      "[0.997184808679089, 0.9325573647046425, 0.1281244456776557, 0.9990405164832814, 0.23608897735741655]\n"
     ]
    }
   ],
   "source": [
    "c_2=cplusplus_boost_uniform_real_distribution(cplusplus_state_from_seed(1),size=5)[0]\n",
    "print(c_2)"
   ]
  },
  {
   "cell_type": "markdown",
   "metadata": {},
   "source": [
    "# References\n",
    "\n",
    "Matsumoto M & Nishimura T (1998) Mersenne Twister: A 623-dimensionally equidistributed uniform pseudorandom number generator\n",
    "\n",
    "Goualard, F. (2020). Generating Random Floating-Point Numbers by Dividing Integers: A Case Study.\n",
    "\n",
    "https://numpy.org/doc/stable/reference/random/generated/numpy.random.uniform.html\n",
    "\n",
    "https://www.rdocumentation.org/packages/stats/versions/3.6.2/topics/Uniform\n",
    "\n",
    "https://cplusplus.com/reference/random/generate_canonical/\n",
    "\n",
    "https://cplusplus.com/reference/random/uniform_real_distribution/\n",
    "\n",
    "https://www.boost.org/doc/libs/1_36_0/libs/random/random-distributions.html"
   ]
  }
 ],
 "metadata": {
  "kernelspec": {
   "display_name": "Python 3",
   "language": "python",
   "name": "python3"
  },
  "language_info": {
   "codemirror_mode": {
    "name": "ipython",
    "version": 3
   },
   "file_extension": ".py",
   "mimetype": "text/x-python",
   "name": "python",
   "nbconvert_exporter": "python",
   "pygments_lexer": "ipython3",
   "version": "3.9.5"
  },
  "vscode": {
   "interpreter": {
    "hash": "87c45c9fa338d254c7af859b02d158e07135bc8a08c08316825ce6bf06b146fb"
   }
  }
 },
 "nbformat": 4,
 "nbformat_minor": 2
}
